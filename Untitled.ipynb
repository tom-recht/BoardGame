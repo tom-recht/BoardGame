{
 "cells": [
  {
   "cell_type": "code",
   "execution_count": 1,
   "metadata": {},
   "outputs": [],
   "source": [
    "import random\n",
    "from collections import deque\n",
    "import json\n",
    "import itertools\n",
    "\n",
    "class Die:\n",
    "    def __init__(self, board):\n",
    "        self.board = board\n",
    "        self.roll()\n",
    "\n",
    "    def roll(self):\n",
    "        self.number = random.randint(1, 6)  \n",
    "        self.used = False\n",
    "\n",
    "class Piece:\n",
    "    def __init__(self, player, number, board):\n",
    "        self.player = player\n",
    "        self.number = number\n",
    "        self.board = board\n",
    "        self.tile = None\n",
    "        self.rack = None\n",
    "        self.reachable_tiles = None\n",
    "        self.reachable_by_sum = None\n",
    "        self.index = None\n",
    "\n",
    "    def __repr__(self):\n",
    "        return f'{self.player}({self.number})'\n",
    "    \n",
    "    def can_be_saved(self):\n",
    "        if self.rack and self.rack == self.board.white_saved or self.rack == self.board.black_saved:\n",
    "            return True  # already saved\n",
    "        \n",
    "        tile = self.tile\n",
    "        if tile and tile.type == 'save':\n",
    "            if self.number > 6 or (self.number == tile.number):\n",
    "                return True\n",
    "        return False\n",
    "\n",
    "class Tile:\n",
    "    def __init__(self, tile_type, ring, pos, board, number=None):\n",
    "        self.type = tile_type\n",
    "        self.ring = ring\n",
    "        self.pos = pos\n",
    "        self.pieces = []\n",
    "        self.neighbors = []\n",
    "        self.board = board\n",
    "        self.number = number  # for goal tiles\n",
    "        self.index = None\n",
    "\n",
    "    def __repr__(self):\n",
    "        return f\"{self.type}({self.ring}, {self.pos})\"\n",
    "        return f\"Tile(type={self.type}, ring={self.ring}, pos={self.pos}, number={self.number})\"\n",
    "    \n",
    "    def is_blocked(self):\n",
    "        return self.type == 'field' and len(self.pieces) > 1 and self.pieces[0].player != self.board.current_player\n",
    "\n",
    "class Board:\n",
    "    def __init__(self):\n",
    "        self.players = ['white', 'black']\n",
    "        self.dice = [Die(self), Die(self)] \n",
    "        self.pieces = []\n",
    "        self.tiles = []\n",
    "        self.tile_map = {}\n",
    "        self.load_from_json('tile_neighbors.json')\n",
    "        self.home_tile = self.get_tile(0, 0)\n",
    "        self.current_player = 'white'\n",
    "        self.white_unentered = []\n",
    "        self.black_unentered = []\n",
    "        self.white_saved = []\n",
    "        self.black_saved = []\n",
    "        self.assign_tile_indices()\n",
    "        self.game_stages = {'white': 'opening', 'black': 'opening'}\n",
    "        self.initialize_pieces()\n",
    "        self.firstMove = None\n",
    "\n",
    "        self.endgame_reward_applied = {'white': False, 'black': False}\n",
    "        self.offgoals = {'white': 0, 'black': 0}\n",
    "\n",
    "    def __repr__(self):\n",
    "\n",
    "        board_repr = \"White unentered: \" + str(self.white_unentered) + \"\\n\"\n",
    "        board_repr += \"White saved: \" + str(self.white_saved) + \"\\n\"\n",
    "        board_repr += \"Black unentered: \" + str(self.black_unentered) + \"\\n\"\n",
    "        board_repr += \"Black saved: \" + str(self.black_saved) + \"\\n\"\n",
    "        board_repr += \"Pieces on board:\\n\"\n",
    "        for piece in self.pieces:\n",
    "            if piece.tile:\n",
    "                board_repr += f\"  {piece} on {piece.tile}\\n\"\n",
    "        return board_repr\n",
    "\n",
    "    def clear(self):\n",
    "        self.white_unentered.clear()\n",
    "        self.black_unentered.clear()\n",
    "        self.white_saved.clear()\n",
    "        self.black_saved.clear()\n",
    "        self.pieces.clear()\n",
    "        for tile in self.tiles:\n",
    "            tile.pieces.clear()\n",
    "\n",
    "    def add_tile(self, tile):\n",
    "        self.tiles.append(tile)\n",
    "        key = (tile.ring, tile.pos)\n",
    "        self.tile_map[key] = tile\n",
    "\n",
    "    def get_tile(self, ring, pos):\n",
    "        return self.tile_map.get((ring, pos))\n",
    "\n",
    "    def initialize_pieces(self):\n",
    "        for player in self.players:\n",
    "            pieces = [Piece(player, i + 1, self) for i in range(14)]\n",
    "            random.shuffle(pieces)  # Shuffle the pieces randomly\n",
    "\n",
    "            if player == 'white':\n",
    "                self.white_unentered.extend(pieces)\n",
    "                for piece in pieces:\n",
    "                    piece.rack = self.white_unentered\n",
    "            else:\n",
    "                self.black_unentered.extend(pieces)\n",
    "                for piece in pieces:\n",
    "                    piece.rack = self.black_unentered\n",
    "\n",
    "            self.pieces.extend(pieces)\n",
    "\n",
    "    def load_from_json(self, filename):\n",
    "        with open(filename, 'r') as f:\n",
    "            data = json.load(f)\n",
    "\n",
    "        for key, value in data.items():\n",
    "            ring, sector = map(int, key.replace('ring', '').replace('sector', '').split('_'))\n",
    "            tile_type = value['type']\n",
    "            number = value.get('number')  # Retrieve number if it's a save tile\n",
    "            tile = Tile(tile_type, ring, sector, self, number)\n",
    "            self.add_tile(tile)\n",
    "\n",
    "        for key, value in data.items():\n",
    "            ring, sector = map(int, key.replace('ring', '').replace('sector', '').split('_'))\n",
    "            tile = self.get_tile(ring, sector)\n",
    "            if tile:\n",
    "                for neighbor in value['neighbors']:\n",
    "                    neighbor_tile = self.get_tile(neighbor['ring'], neighbor['sector'])\n",
    "                    if neighbor_tile:\n",
    "                        tile.neighbors.append(neighbor_tile)\n",
    "\n",
    "    def update_state(self, game_state_details):\n",
    "        # Set the current turn\n",
    "        self.current_player = game_state_details['currentTurn']\n",
    "\n",
    "        # Clear the board pieces\n",
    "        self.clear()\n",
    "        \n",
    "        # Set dice values and used status\n",
    "        for die, die_details in zip(self.dice, game_state_details['dice']):\n",
    "            die.number = die_details['value']\n",
    "            die.used = die_details['used']\n",
    "\n",
    "        # Function to place pieces in their respective racks\n",
    "        def place_pieces_in_rack(rack, pieces_details, player):\n",
    "            rack.clear()\n",
    "            for piece_details in pieces_details:\n",
    "                piece = Piece(player, piece_details['number'], self)\n",
    "                self.pieces.append(piece)\n",
    "                rack.append(piece)\n",
    "                piece.rack = rack\n",
    "        \n",
    "        # Place pieces in the unentered and saved racks\n",
    "        place_pieces_in_rack(self.white_unentered, game_state_details['racks']['whiteUnentered'], 'white')\n",
    "        place_pieces_in_rack(self.white_saved, game_state_details['racks']['whiteSaved'], 'white')\n",
    "        place_pieces_in_rack(self.black_unentered, game_state_details['racks']['blackUnentered'], 'black')\n",
    "        place_pieces_in_rack(self.black_saved, game_state_details['racks']['blackSaved'], 'black')\n",
    "\n",
    "        \n",
    "        # Place pieces on the board\n",
    "        for piece_details in game_state_details['boardPieces']:\n",
    "            player = piece_details['color']\n",
    "            number = piece_details['number']\n",
    "            ring = piece_details['tile']['ring']\n",
    "            sector = piece_details['tile']['sector']\n",
    "            tile = self.get_tile(ring, sector)\n",
    "            piece = Piece(player, number, self)\n",
    "            piece.tile = tile\n",
    "            tile.pieces.append(piece)\n",
    "            self.pieces.append(piece)\n",
    "\n",
    "       #     print('Placed piece:', piece, 'on tile:', tile)\n",
    "            \n",
    "            if 'reachableBySum' in piece_details:\n",
    "                piece.reachable_by_sum = [self.get_tile(t['ring'], t['sector']) for t in piece_details['reachableBySum']]\n",
    "                self.firstMove = {'piece': piece, 'origin_tile': tile}\n",
    "\n",
    "        self.assign_piece_indices()\n",
    "        self.game_stages[self.current_player] = self.get_game_stage(self.current_player)\n",
    "\n",
    "\n",
    "    def assign_tile_indices(self):\n",
    "        for i in range(len(self.tiles)):\n",
    "            self.tiles[i].index = i\n",
    "\n",
    "    def assign_piece_indices(self):\n",
    "        # Sort the pieces list by color (white then black) and then by their number\n",
    "        self.pieces.sort(key=lambda piece: (piece.player != 'white', piece.number))\n",
    "        # Assign the indices\n",
    "        for i in range(len(self.pieces)):\n",
    "            self.pieces[i].index = i+1\n",
    "\n",
    "    def get_game_stage(self, player):\n",
    "        unentered_rack = self.white_unentered if player == 'white' else self.black_unentered\n",
    "        if len(unentered_rack) > 0:\n",
    "            return 'opening'\n",
    "        \n",
    "        player_pieces = [p for p in self.pieces if p.player == player]\n",
    "        if all(p.can_be_saved() for p in player_pieces):\n",
    "            return 'endgame'\n",
    "        return 'midgame'\n",
    "    \n",
    "    def switch_turn(self):\n",
    "        self.firstMove = None  \n",
    "        for die in self.dice:\n",
    "            die.roll()\n",
    "        self.current_player = 'white' if self.current_player == 'black' else 'black'\n",
    "\n",
    "    def check_game_over(self):\n",
    "        TOTAL_PIECES = len(self.pieces) // 2 \n",
    "        white_saved_count = len(self.white_saved)\n",
    "        black_saved_count = len(self.black_saved)\n",
    "        \n",
    "        if white_saved_count == TOTAL_PIECES:\n",
    "            black_unsaved_count = TOTAL_PIECES - black_saved_count\n",
    "            return 'white', black_unsaved_count\n",
    "        \n",
    "        if black_saved_count == TOTAL_PIECES:\n",
    "            white_unsaved_count = TOTAL_PIECES - white_saved_count\n",
    "            return 'black', white_unsaved_count\n",
    "        \n",
    "        return None, None  # No winner yet\n",
    "\n",
    "    def get_unentered_piece(self):\n",
    "        unentered_rack = self.white_unentered if self.current_player == 'white' else self.black_unentered\n",
    "        if len(unentered_rack) > 0:\n",
    "            return unentered_rack[0]\n",
    "        return None\n",
    "\n",
    "    def must_move_unentered(self):\n",
    "        unentered_rack = self.white_unentered if self.current_player == 'white' else self.black_unentered\n",
    "        if len(unentered_rack) == 0:\n",
    "            return False\n",
    "        if self.home_tile.pieces and any(piece.player == self.current_player for piece in self.home_tile.pieces):\n",
    "            return False\n",
    "        if self.firstMove:\n",
    "            return False\n",
    "        return True\n",
    "\n",
    "    def get_saving_die(self, piece):\n",
    "        current_tile = piece.tile\n",
    "        if current_tile and current_tile.type == 'save' and (piece.number > 6 or piece.number == current_tile.number):\n",
    "            if self.game_stages[piece.player] == 'endgame':\n",
    "                if piece.number > 6:\n",
    "                    highest_occupied_goal_number = max((tile.number for tile in self.tiles if tile.type == 'save' and len(tile.pieces) > 0 and any(p.player == piece.player for p in tile.pieces)), default=0)\n",
    "                    valid_dice = [die for die in self.dice if (not die.used) and die.number == current_tile.number or (die.number > current_tile.number and current_tile.number >= highest_occupied_goal_number)]\n",
    "                else:\n",
    "                    valid_dice = [die for die in self.dice if (not die.used) and die.number == current_tile.number]\n",
    "            else:\n",
    "                valid_dice = [die for die in self.dice if (not die.used) and die.number == current_tile.number]\n",
    "\n",
    "            if valid_dice:\n",
    "                matching_die = next((die for die in valid_dice if die.number == current_tile.number), None)\n",
    "                if matching_die:\n",
    "                    die = matching_die\n",
    "                else:\n",
    "                    die = max(valid_dice, key=lambda die: die.number)\n",
    "                return die.number\n",
    "            else:\n",
    "                return False  # The piece cannot be saved with the current dice rolls\n",
    "            \n",
    "    def get_reachable_tiles(self, start_tile, steps):\n",
    "        queue = deque([(start_tile, 0)])  # Start with the current tile and 0 steps taken\n",
    "        visited = set([start_tile])\n",
    "        reachable_tiles = []\n",
    "\n",
    "        while queue:\n",
    "            current_tile, current_steps = queue.popleft()\n",
    "            if current_steps < steps:     \n",
    "                for neighbor in current_tile.neighbors:\n",
    "                    if (neighbor not in visited and neighbor.type not in ['nogo', 'home'] and not neighbor.is_blocked()):  \n",
    "                        queue.append((neighbor, current_steps + 1))\n",
    "                        visited.add(neighbor)\n",
    "                        if current_steps + 1 == steps:\n",
    "                            reachable_tiles.append(neighbor)\n",
    "            elif current_steps == steps:\n",
    "                reachable_tiles.append(current_tile)\n",
    "\n",
    "        return list(set(reachable_tiles))\n",
    "\n",
    "    def get_reachable_tiles_by_dice(self, piece):   \n",
    "        reachable_tiles = {self.dice[0].number: [], self.dice[1].number: []}\n",
    "        \n",
    "        if piece.rack and piece.rack in [self.white_unentered, self.black_unentered]:   # if an unentered piece, start from the home tile\n",
    "            start_tile = self.home_tile\n",
    "        else:\n",
    "            start_tile = piece.tile\n",
    "\n",
    "        if not self.dice[0].used:\n",
    "            reachable_tiles[self.dice[0].number] = self.get_reachable_tiles(start_tile, self.dice[0].number)\n",
    "\n",
    "            # uses 2 alternative ways of finding the sum-reachable tiles for a moved piece\n",
    "            reachable_by_sum = None\n",
    "         #   if piece.reachable_by_sum:  # this comes from update_state()\n",
    "         #       reachable_by_sum = piece.reachable_by_sum\n",
    "            if self.firstMove and self.firstMove['piece'] == piece: \n",
    "                origin_tile = self.firstMove['origin_tile'] or self.home_tile\n",
    "                reachable_by_sum = self.get_reachable_tiles(origin_tile, self.dice[0].number + self.dice[1].number)\n",
    "            if reachable_by_sum:\n",
    "                reachable_tiles[self.dice[0].number] = [tile for tile in reachable_tiles[self.dice[0].number] if tile in reachable_by_sum]\n",
    "\n",
    "        if not self.dice[1].used:\n",
    "            reachable_tiles[self.dice[1].number] = self.get_reachable_tiles(start_tile, self.dice[1].number)\n",
    "\n",
    "            reachable_by_sum = None\n",
    "            if piece.reachable_by_sum:\n",
    "                reachable_by_sum = piece.reachable_by_sum\n",
    "            elif self.firstMove and self.firstMove['piece'] == piece:\n",
    "                origin_tile = self.firstMove['origin_tile'] or self.home_tile\n",
    "                reachable_by_sum = self.get_reachable_tiles(origin_tile, self.dice[0].number + self.dice[1].number)      \n",
    "            if reachable_by_sum:\n",
    "                reachable_tiles[self.dice[1].number] = [tile for tile in reachable_tiles[self.dice[1].number] if tile in reachable_by_sum]\n",
    "       \n",
    "             # removed total rolls to avoid en-route capture complications   \n",
    " #       if not self.dice[0].used and not self.dice[1].used:\n",
    "  #          reachable_tiles['total'] = self.get_reachable_tiles(start_tile, self.dice[0].number+self.dice[1].number)\n",
    "\n",
    "        if piece.tile and piece.tile.type == 'save' and self.game_stages[piece.player] != 'opening':\n",
    "            save_roll = self.get_saving_die(piece)\n",
    "            if save_roll:             \n",
    "                reachable_tiles[save_roll].append('save')  # this needs changing?\n",
    "          #      print('Save roll', reachable_tiles[save_roll])\n",
    "\n",
    "        piece.reachable_tiles = reachable_tiles\n",
    "     #   print(piece, reachable_tiles)\n",
    "\n",
    "    def get_valid_moves(self, mask_offgoals = False):\n",
    "\n",
    "        # if must move captured piece(s), do so\n",
    "        captured_pieces = [piece for piece in self.home_tile.pieces if piece.player == self.current_player]\n",
    "        if captured_pieces:\n",
    "       #     print('Captured pieces:', captured_pieces)\n",
    "            for piece in captured_pieces:\n",
    "                self.get_reachable_tiles_by_dice(piece)\n",
    "            self.destinations_by_piece = {piece: piece.reachable_tiles for piece in captured_pieces}\n",
    "\n",
    "        # if must move unentered piece, do so\n",
    "        elif self.must_move_unentered():\n",
    "      #      print('Must move unentered')\n",
    "            piece = self.get_unentered_piece()\n",
    "      #      print('Unentered piece:', piece)\n",
    "            self.get_reachable_tiles_by_dice(piece)\n",
    "            self.destinations_by_piece = {piece: piece.reachable_tiles}\n",
    "            \n",
    "        else:\n",
    "            player_pieces = [p for p in self.pieces if p.player == self.current_player and p.tile and p.tile.type in ['field', 'save']]\n",
    "\n",
    "            # check if there's an unentered piece which can enter, and if so add it to the list of pieces\n",
    "            unentered_piece = self.get_unentered_piece()\n",
    "            if unentered_piece:\n",
    "                player_pieces.append(unentered_piece)\n",
    "\n",
    "            for piece in player_pieces:\n",
    "                self.get_reachable_tiles_by_dice(piece)\n",
    "        \n",
    "            self.destinations_by_piece = {piece: piece.reachable_tiles for piece in player_pieces}\n",
    "\n",
    "        # transform the dictionary so that items are tuples of (piece, tile, roll)\n",
    "        tuples_list = []\n",
    "        for piece, moves in self.destinations_by_piece.items():\n",
    "            for roll, destinations in moves.items():\n",
    "                if destinations:  # Ignore empty destinations\n",
    "                    for destination in destinations:\n",
    "                        \n",
    "                        if destination == 'save':\n",
    "                            tuples_list.append(((piece.player, piece.number), destination, roll))\n",
    "                        elif mask_offgoals and piece.can_be_saved() and (piece.number <=6 or roll != 4 or destination.type != 'save'):\n",
    "                            continue   # don't include offgoal moves\n",
    "                        else:\n",
    "                            tuples_list.append(((piece.player, piece.number), (destination.ring, destination.pos), roll))\n",
    "\n",
    "        tuples_list.append((0, 0, 0))  # add a pass move\n",
    "\n",
    "        # add tuples of form (0, tile_index, 0) for saving opponent's block -- this doesn't seem to work\n",
    "      #  for tile in self.tiles:\n",
    "       #     if tile.is_blocked():\n",
    "        #        tuples_list.append((0, (tile.ring, tile.pos), 0))\n",
    "  \n",
    "        return tuples_list\n",
    "    \n",
    "    def apply_move(self, move):\n",
    "        piece_id, destination, roll = move\n",
    "\n",
    "        # Handle the pass move (0, 0, 0)\n",
    "        if move == (0, 0, 0):\n",
    "            self.firstMove = None  # Reset first move for the next turn\n",
    "            self.current_player = 'white' if self.current_player == 'black' else 'black'\n",
    "            return\n",
    "\n",
    "        # Find the piece object\n",
    "        piece = next((p for p in self.pieces if (p.player, p.number) == piece_id), None)\n",
    "        if not piece:\n",
    "            print(f\"No piece found for {piece_id}\")\n",
    "            return\n",
    "\n",
    "        # Handle saving a piece\n",
    "        if destination == 'save':\n",
    "            saved_rack = self.white_saved if piece.player == 'white' else self.black_saved\n",
    "            saved_rack.append(piece)\n",
    "            if piece.tile:\n",
    "                piece.tile.pieces.remove(piece)\n",
    "            piece.tile = None\n",
    "            piece.rack = saved_rack\n",
    "\n",
    "        else:\n",
    "            # Handle moving to a new tile\n",
    "            ring, pos = destination\n",
    "            new_tile = self.get_tile(ring, pos)\n",
    "\n",
    "            # Remove the piece from its current location (rack or tile)\n",
    "            if piece.rack:\n",
    "                piece.rack.remove(piece)\n",
    "                piece.rack = None\n",
    "            if piece.tile:\n",
    "                piece.tile.pieces.remove(piece)\n",
    "            \n",
    "            # Set the first move if not set already\n",
    "            if not self.firstMove:\n",
    "                self.firstMove = {'piece': piece, 'origin_tile': piece.tile}\n",
    "\n",
    "            # Check if we are capturing an opponent piece (only on field tiles)\n",
    "            if new_tile.type == 'field' and new_tile.pieces and new_tile.pieces[0].player != piece.player:\n",
    "                captured_piece = new_tile.pieces.pop()\n",
    "                captured_piece.tile = self.home_tile\n",
    "                self.home_tile.pieces.append(captured_piece)\n",
    "\n",
    "            # Move the piece to the new tile\n",
    "            new_tile.pieces.append(piece)\n",
    "            piece.tile = new_tile\n",
    "\n",
    "        # Mark the die as used\n",
    "        if roll == self.dice[0].number and not self.dice[0].used:\n",
    "            self.dice[0].used = True\n",
    "        elif roll == self.dice[1].number and not self.dice[1].used:\n",
    "            self.dice[1].used = True\n",
    "\n",
    "\n",
    "        self.game_stages[self.current_player] = self.get_game_stage(self.current_player)\n",
    "\n",
    "        # Switch to the next player if both dice are used\n",
    "        if all(die.used for die in self.dice):\n",
    "            self.switch_turn()\n",
    "\n",
    "    def get_save_rack(self, player):\n",
    "        return self.white_saved if player == 'white' else self.black_saved\n",
    "    \n",
    "    def get_unentered_rack(self, player):\n",
    "        return self.white_unentered if player == 'white' else self.black_unentered\n",
    "\n",
    "    def shortest_route_to_goal(self, piece):\n",
    "        start_tile = piece.tile if piece.tile else self.home_tile  # Use home tile if the piece has no tile\n",
    "\n",
    "        if piece.can_be_saved():\n",
    "            return 0\n",
    "\n",
    "        queue = deque([(start_tile, 0)])  # (current tile, distance)\n",
    "        visited = set([start_tile])\n",
    "\n",
    "        while queue:\n",
    "            current_tile, distance = queue.popleft()\n",
    "\n",
    "            for neighbor in current_tile.neighbors:\n",
    "                if neighbor not in visited:\n",
    "                    visited.add(neighbor)\n",
    "                    if neighbor.type == 'save' and (piece.number > 6 or piece.number == neighbor.number):\n",
    "                        return distance + 1  # Found a goal tile from which the piece can be saved\n",
    "                    if neighbor.type not in ['nogo', 'home'] and not neighbor.is_blocked():\n",
    "                        queue.append((neighbor, distance + 1))\n",
    "\n",
    "        return float('inf')  # No path found to a goal tile\n",
    "\n",
    "    def get_all_possible_moves(self):\n",
    "        destination_tiles = [tile.index for tile in self.tiles if tile.type in ['field','save']]\n",
    "        pieces = range(len(self.pieces))\n",
    "        all_possible_moves = list(itertools.product(pieces, destination_tiles))\n",
    "        all_possible_moves.insert(0, (0, 0))  # Add the tuple (0,0,0) for passing\n",
    "        for destination in destination_tiles:\n",
    "            all_possible_moves.append((0, destination))  # Add an extra tuple for saving each tile: form (0, tile_index)\n",
    "        return all_possible_moves\n",
    "        \n",
    "    def encode_state(self):\n",
    "\n",
    "        def normalize(value, min_val, max_val):\n",
    "            return (value - min_val) / (max_val - min_val)\n",
    "\n",
    "        player = self.current_player\n",
    "        opponent = 'white' if player == 'black' else 'black'\n",
    "        player_saved_rack = self.white_saved if player == 'white' else self.black_saved\n",
    "        opponent_saved_rack = self.white_saved if player == 'black' else self.black_saved\n",
    "        player_unentered_rack = self.white_unentered if player == 'white' else self.black_unentered\n",
    "        opponent_unentered_rack = self.white_unentered if player == 'black' else self.black_unentered\n",
    "        player_pieces = [piece for piece in self.pieces if piece.player == player]\n",
    "        opponent_pieces = [piece for piece in self.pieces if piece.player == opponent]\n",
    "\n",
    "        state = []\n",
    "\n",
    "        for piece in player_pieces:\n",
    "            if piece in player_unentered_rack:\n",
    "                rack_position = player_unentered_rack.index(piece)\n",
    "                state.append(normalize(rack_position, 0, 100)) \n",
    "            elif piece in player_saved_rack:\n",
    "                state.append(1)\n",
    "            else:\n",
    "                tile_position = piece.tile.index + 28           # offset by length of unentered racks\n",
    "                state.append(normalize(tile_position, 0, 100))\n",
    "\n",
    "        for piece in opponent_pieces:\n",
    "            if piece in opponent_unentered_rack:\n",
    "                rack_position = opponent_unentered_rack.index(piece) + 14   # offset by player's unentered rack\n",
    "                state.append(normalize(rack_position, 0, 100)) \n",
    "            elif piece in opponent_saved_rack:\n",
    "                state.append(1)\n",
    "            else:\n",
    "                tile_position = piece.tile.index + 28           \n",
    "                state.append(normalize(tile_position, 0, 100))\n",
    "\n",
    "        for rack in [player_saved_rack, opponent_saved_rack]:\n",
    "            state.append(normalize(len(rack), 0, 14))\n",
    "\n",
    "        for tile in self.tiles:\n",
    "            if tile.type == 'field':\n",
    "                state.append(int(tile.is_blocked() == True))\n",
    "\n",
    "        for player in [player, opponent]:\n",
    "            stage = self.game_stages[player]\n",
    "            state.append(0 if stage == 'opening' else 0.5 if stage == 'midgame' else 1)\n",
    "\n",
    "        for die in self.dice:\n",
    "            state.append(normalize(die.number, 1, 6) if die.used else 0)\n",
    "\n",
    "        return state\n",
    "\n",
    "    def step(self, move_and_player, transition_factor=0.1):\n",
    "\n",
    "        piece, destination, roll, player = move_and_player\n",
    "        move = (piece, destination, roll)\n",
    "\n",
    "        if move == (0, 0, 0):  # pass move\n",
    "            self.apply_move(move)\n",
    "            next_state = self.encode_state()\n",
    "            reward = 0\n",
    "            done = False\n",
    "            return next_state, reward, done\n",
    "        \n",
    "        piece_object = next((p for p in self.pieces if (p.player, p.number) == piece), None)\n",
    "        start_distance_to_goal = self.shortest_route_to_goal(piece_object)\n",
    "        start_within_reach = True if start_distance_to_goal <= 6 else False\n",
    "\n",
    "        # intermediate rewards: before move\n",
    "        intermediate_reward = 0\n",
    "        if destination == 'save':   # save pieces\n",
    "            intermediate_reward += 5000             \n",
    "            if piece_object.number <= 6:\n",
    "                intermediate_reward += piece_object.number * 1000\n",
    "                #   print(\"Saving piece\", piece_object.player, piece_object.number, intermediate_reward)\n",
    "        \n",
    "        if isinstance(destination, tuple):   \n",
    "            tile = self.get_tile(*destination)\n",
    "            if piece_object.can_be_saved() and tile.type != 'save':  # don't move a piece that can be saved, except to another save tile\n",
    "                self.offgoals[player] += 1\n",
    "                print(\"Offgoal. Move:\", move, self.game_stages[player], piece, piece_object.rack, piece_object.tile, tile, roll)\n",
    "                intermediate_reward -= 30000\n",
    "                if piece_object.number <= 6:\n",
    "                    intermediate_reward -= piece_object.number * 6000\n",
    "            \n",
    "            if tile.pieces and tile.pieces[0].player != player:  # capture\n",
    "                    intermediate_reward += 500\n",
    "            elif tile.pieces and len(tile.pieces) == 1:   # create block\n",
    "                    intermediate_reward += 500\n",
    "\n",
    "        # apply move and check for game over\n",
    "        \n",
    "        self.apply_move(move)\n",
    "\n",
    "        winner, score = self.check_game_over()\n",
    "        next_state = self.encode_state()\n",
    "\n",
    "        if score is None:\n",
    "            score = 0  # Ensure score is numeric\n",
    "        \n",
    "        if winner:\n",
    "            print(f\"*** Game over! {winner} wins with a score of {score}.\")\n",
    "            done = True\n",
    "            reward = score * 1000000 if winner == player else score * -1000000\n",
    "            return next_state, reward, done\n",
    "\n",
    "        # intermediate rewards: after move\n",
    "        if isinstance(destination, tuple):   \n",
    "            if piece_object.can_be_saved():  #  moved to goal\n",
    "                intermediate_reward += 5000\n",
    "            #   print('+5000', move)                \n",
    "                if piece_object.number <= 6:\n",
    "                    intermediate_reward += piece_object.number * 1000\n",
    "            #   print(f\"Moving onto save tile, {piece_object.player}, {piece_object.number}. {player} saveable pieces: {len([p for p in self.pieces if p.player == player and p.tile and p.can_be_saved()])}, {intermediate_reward}\")\n",
    "                self.game_stages[player] = self.get_game_stage(player)\n",
    "                if self.game_stages[player] == 'endgame' and not self.endgame_reward_applied[player]:   # enter endgame for first time\n",
    "                    intermediate_reward += 50000\n",
    "                    self.endgame_reward_applied[player] = True\n",
    "            else:   # did piece move into/out of reach?\n",
    "                end_distance_to_goal = self.shortest_route_to_goal(piece_object)\n",
    "                end_within_reach = True if end_distance_to_goal <= 6 else False\n",
    "                if not start_within_reach and end_within_reach:\n",
    "                    intermediate_reward += 1000\n",
    "                    if piece_object.number <= 6:\n",
    "                        intermediate_reward -= piece_object.number * 200\n",
    "                elif start_within_reach and not end_within_reach:\n",
    "                    intermediate_reward -= 1000\n",
    "                    if piece_object.number <= 6:\n",
    "                        intermediate_reward -= piece_object.number * 200\n",
    "\n",
    "\n",
    "        # Blend intermediate and final rewards\n",
    "        reward = (1 - transition_factor) * intermediate_reward + transition_factor * score\n",
    "\n",
    "        done = False   \n",
    "\n",
    "        return next_state, reward, done\n",
    "\n",
    "\n",
    "def text_interface(board):\n",
    "    while True:\n",
    "        # Display the current state of the board\n",
    "        print(\"\\nCurrent Board State:\")\n",
    "        print(board)\n",
    "\n",
    "        # Get valid moves\n",
    "        valid_moves = board.get_valid_moves()\n",
    "\n",
    "        # List valid moves\n",
    "        print(\"\\nValid moves:\")\n",
    "        for i, move in enumerate(valid_moves):\n",
    "            piece_id, destination, roll = move\n",
    "            piece_desc = f\"{piece_id}\" if piece_id != 0 else \"Pass\"\n",
    "            dest_desc = f\"{destination}\" if destination != \"save\" else \"Save\"\n",
    "            print(f\"{i}: Move {piece_desc} to {dest_desc} with roll {roll}\")\n",
    "\n",
    "        # Prompt the user for a choice\n",
    "        choice = input(\"Enter the number of the move you want to make (or 'q' to quit): \")\n",
    "\n",
    "        if choice.lower() == 'q':\n",
    "            print(\"Exiting...\")\n",
    "            break\n",
    "\n",
    "        try:\n",
    "            choice = int(choice)\n",
    "            if 0 <= choice < len(valid_moves):\n",
    "                chosen_move = valid_moves[choice]\n",
    "                board.apply_move(chosen_move)\n",
    "                print(\"Move applied!\")\n",
    "            else:\n",
    "                print(\"Invalid choice. Please select a valid move number.\")\n",
    "        except ValueError:\n",
    "            print(\"Invalid input. Please enter a number.\")\n",
    "\n",
    "def random_play(self):\n",
    "    while True:\n",
    "        print('Dice:', [die.number for die in self.dice])\n",
    "        print('Current player:', board.current_player)\n",
    "        # Get valid moves\n",
    "        valid_moves = self.get_valid_moves()\n",
    "\n",
    "        # Check for the end of the game\n",
    "        winner, score = self.check_game_over()\n",
    "        if winner:\n",
    "            print(f\"   GAME OVER! {winner} wins with a score of {score}.\")\n",
    "            break\n",
    "\n",
    "        # Check for save moves and prioritize them\n",
    "        save_moves = [move for move in valid_moves if move[1] == 'save']\n",
    "        if save_moves:\n",
    "            chosen_move = random.choice(save_moves)\n",
    "        else:\n",
    "            # Check for moves that place a piece on a save goal where it can be saved\n",
    "            prioritized_moves = []\n",
    "            for move in valid_moves:\n",
    "                piece_id, destination, roll = move\n",
    "                if isinstance(destination, tuple):\n",
    "                    ring, pos = destination\n",
    "                    tile = self.get_tile(ring, pos)\n",
    "                    if tile and tile.type == 'save':\n",
    "                        piece = next((p for p in self.pieces if (p.player, p.number) == piece_id), None)\n",
    "                        if piece and (piece.number > 6 or piece.number == tile.number):\n",
    "                            prioritized_moves.append(move)\n",
    "\n",
    "            # Filter out moves that involve moving pieces already on save goals where they can be saved\n",
    "            valid_moves = [\n",
    "                move for move in valid_moves\n",
    "                if move[1] == 'save' or \n",
    "                not (isinstance(move[1], tuple) and \n",
    "                     self.get_tile(*move[1]) and \n",
    "                     self.get_tile(*move[1]).type == 'save' and \n",
    "                     any(p.number > 6 or (p.number == self.get_tile(*move[1]).number) \n",
    "                         for p in self.get_tile(*move[1]).pieces))\n",
    "            ]\n",
    "\n",
    "            if prioritized_moves:\n",
    "                chosen_move = random.choice(prioritized_moves)\n",
    "            else:\n",
    "                chosen_move = random.choice(valid_moves)\n",
    "\n",
    "        # Apply the move\n",
    "        self.apply_move(chosen_move)\n",
    "        print(f\"Applied move: {chosen_move}\")\n",
    "\n",
    "        # Display the current state of the board\n",
    "        print(\"\\nCurrent Board State:\")\n",
    "        print(self)\n",
    "\n",
    "\n",
    "\n",
    "# AI seems to be trying to move twice ignoring shortest path rule"
   ]
  },
  {
   "cell_type": "code",
   "execution_count": 2,
   "metadata": {},
   "outputs": [],
   "source": [
    "import random\n",
    "import copy\n",
    "import json\n",
    "\n",
    "GAME_OVER_SCORE = 10000\n",
    "LOG_TO_FILE = True\n",
    "\n",
    "INITIAL_WEIGHTS = {\n",
    "    'saved_bonuses': {0:0, 1:12, 2:14, 3:16, 4:18, 5:20, 6:22},\n",
    "    'goal_bonuses': {0:0, 1:12, 2:14, 3:16, 4:18, 5:20, 6:22},\n",
    "    'game_stage_bonuses': {'midgame': 50, 'endgame': 100},\n",
    "    'saved_piece': 20,\n",
    "    'goal_piece': 10,\n",
    "    'near_goal_piece': 4,\n",
    "    'unentered_piece': -1,\n",
    "    'loose_piece': -1,\n",
    "    'distance_penalty': -.5\n",
    "}\n",
    "class Agent():\n",
    "    def __init__(self, board = None, weights = INITIAL_WEIGHTS, log_file='game_log.json'):\n",
    "        self.board = board\n",
    "        self.weights = weights\n",
    "        self.log = []\n",
    "        self.log_file = log_file\n",
    "        with open(self.log_file, 'w') as file:\n",
    "            file.write(json.dumps(self.log, indent=4))\n",
    "        print(f\"Log file {self.log_file} created.\")\n",
    "\n",
    "    def random_move(self, valid_moves):\n",
    "\n",
    "         # Remove pass move if there are other options\n",
    "        non_pass_moves = [move for move in valid_moves if move != (0, 0, 0)]\n",
    "        \n",
    "        if not non_pass_moves:\n",
    "            return (0, 0, 0)\n",
    "\n",
    "        save_moves = [move for move in valid_moves if move[1] == 'save']\n",
    "        if save_moves:\n",
    "            chosen_move = random.choice(save_moves)\n",
    "        else:\n",
    "            # Check for moves that place a piece on a save goal where it can be saved\n",
    "            prioritized_moves = []\n",
    "            for move in valid_moves:\n",
    "                piece_id, destination, roll = move\n",
    "                if isinstance(destination, tuple):\n",
    "                    ring, pos = destination\n",
    "                    tile = self.board.get_tile(ring, pos)\n",
    "                    if tile and tile.type == 'save':\n",
    "                        piece = next((p for p in self.board.pieces if (p.player, p.number) == piece_id), None)\n",
    "                        if piece and (piece.number > 6 or piece.number == tile.number):\n",
    "                            prioritized_moves.append(move)\n",
    "\n",
    "            # Filter out moves that involve moving pieces already on save goals where they can be saved\n",
    "            non_pass_moves = [\n",
    "                move for move in non_pass_moves\n",
    "                if move[1] == 'save' or \n",
    "                not (isinstance(move[1], tuple) and \n",
    "                    self.board.get_tile(*move[1]) and \n",
    "                    self.board.get_tile(*move[1]).type == 'save' and \n",
    "                    any(p.number > 6 or (p.number == self.board.get_tile(*move[1]).number) \n",
    "                        for p in self.board.get_tile(*move[1]).pieces))\n",
    "            ]\n",
    "\n",
    "            if prioritized_moves:\n",
    "                chosen_move = random.choice(prioritized_moves)\n",
    "            else:\n",
    "                chosen_move = random.choice(non_pass_moves)\n",
    "\n",
    "        return chosen_move\n",
    "    \n",
    "    def evaluate_player(self, board, player):\n",
    "        # number of saved pieces\n",
    "        save_rack = board.get_save_rack(player)\n",
    "        saved_pieces = len(save_rack)\n",
    "        saved_bonus = sum(self.weights['saved_bonuses'].get(piece.number, 0) for piece in save_rack)\n",
    "\n",
    "        # number of pieces on goals\n",
    "        goal_pieces = [piece for piece in board.pieces if piece.player == player and piece.can_be_saved()]\n",
    "        goal_bonus = sum(self.weights['goal_bonuses'].get(piece.number, 0) for piece in goal_pieces if piece.number <= 6)\n",
    "\n",
    "        # number of pieces within reach of a goal\n",
    "        board_pieces = [piece for piece in board.pieces if piece.player == player and piece.tile]\n",
    "        pieces_near_goal = len([piece for piece in board_pieces if board.shortest_route_to_goal(piece) <= 6])\n",
    "\n",
    "        # numbered piece not on goal\n",
    "        numbered_off_goal = [piece for piece in board.pieces if piece.number <= 6 and not piece.can_be_saved()]\n",
    "        off_goal_penalty = -1 * sum(self.weights['goal_bonuses'].get(piece.number, 0) for piece in numbered_off_goal)\n",
    "\n",
    "        # total distance froms goals of other pieces\n",
    "        pieces_not_near_goal = [piece for piece in board_pieces if board.shortest_route_to_goal(piece) > 6]\n",
    "        total_distance = min(sum(board.shortest_route_to_goal(piece) for piece in pieces_not_near_goal), 100)\n",
    "        total_distance += sum(self.weights['goal_bonuses'].get(piece.number, 0) for piece in pieces_not_near_goal if piece.number <= 6) / 10\n",
    "\n",
    "        # number of loose pieces\n",
    "        loose_pieces = len([piece for piece in board_pieces if piece.tile.type == 'field' and len(piece.tile.pieces) == 1])\n",
    "\n",
    "        # number of pieces not entered\n",
    "        unentered_rack = board.get_unentered_rack(player)\n",
    "        unentered_pieces = len(unentered_rack)\n",
    "\n",
    "        # game stage bonus\n",
    "        game_stage = board.game_stages[player]\n",
    "        game_stage_bonus = self.weights['game_stage_bonuses'].get(game_stage, 0)\n",
    "\n",
    "        total_score = (saved_pieces * self.weights['saved_piece'] + saved_bonus +\n",
    "                    len(goal_pieces) * self.weights['goal_piece'] + goal_bonus +\n",
    "                    pieces_near_goal * self.weights['near_goal_piece'] +\n",
    "                    loose_pieces * self.weights['loose_piece'] +\n",
    "                    total_distance * self.weights['distance_penalty'] +\n",
    "                    unentered_pieces * self.weights['unentered_piece'] +\n",
    "                    off_goal_penalty +\n",
    "                    game_stage_bonus)\n",
    "        \n",
    "        score_components = {\n",
    "            'saved_pieces': saved_pieces * self.weights['saved_piece'],\n",
    "            'saved_bonus': saved_bonus,\n",
    "            'goal_pieces': len(goal_pieces) * self.weights['goal_piece'],\n",
    "            'goal_bonus': goal_bonus,\n",
    "            'pieces_near_goal': pieces_near_goal * self.weights['near_goal_piece'],\n",
    "            'loose_pieces': loose_pieces * self.weights['loose_piece'],\n",
    "            'total_distance': total_distance * self.weights['distance_penalty'],\n",
    "            'unentered_pieces': unentered_pieces * self.weights['unentered_piece'],\n",
    "            'off_goal_penalty': off_goal_penalty,\n",
    "            'game_stage_bonus': game_stage_bonus\n",
    "        }\n",
    "\n",
    "        return total_score, score_components\n",
    "\n",
    "\n",
    "    def evaluate(self, board, player):\n",
    "        winner, score = board.check_game_over()\n",
    "        if winner:\n",
    "            factor = 1 if winner == player else -1\n",
    "            return factor * score * GAME_OVER_SCORE, {}\n",
    "\n",
    "        player_eval, player_components = self.evaluate_player(board, player)\n",
    "        opponent = 'white' if player == 'black' else 'black'\n",
    "        opponent_eval, opponent_components = self.evaluate_player(board, opponent)\n",
    "\n",
    "        total_score = player_eval - opponent_eval\n",
    "        score_components = {\n",
    "            'player': player_components,\n",
    "            'opponent': opponent_components\n",
    "        }\n",
    "\n",
    "        return total_score, score_components\n",
    "\n",
    "    def select_move_pair(self, moves, board, player):\n",
    "        move_scores = dict()\n",
    "\n",
    "        # Ensure moves is a set and does not contain integers\n",
    "        if not isinstance(moves, (list, set)) or not all(isinstance(m, tuple) for m in moves):\n",
    "            raise ValueError('Invalid moves format: expected a list or set of tuples.')\n",
    "\n",
    "        # Evaluate the pass move\n",
    "        move_scores[((0, 0, 0), (0, 0, 0))] = self.evaluate(board, player)\n",
    "\n",
    "        # Create a set of moves without the pass move\n",
    "        moves = set(moves)\n",
    "        moves.discard((0, 0, 0))\n",
    "\n",
    "        for move in moves:\n",
    "            if not isinstance(move, tuple) or len(move) != 3:\n",
    "                raise ValueError('Invalid move format: each move should be a tuple of length 3.')\n",
    "\n",
    "            simulated_board = copy.deepcopy(board)\n",
    "            simulated_board.apply_move(move)\n",
    "            move_scores[(move, (0, 0, 0))] = self.evaluate(simulated_board, player)  # make one move then pass\n",
    "            \n",
    "            next_moves = set(simulated_board.get_valid_moves(mask_offgoals=True))\n",
    "        \n",
    "            \n",
    "            if not next_moves:\n",
    "                continue\n",
    "            next_moves.discard((0, 0, 0))\n",
    "\n",
    "            for next_move in next_moves:\n",
    "                if not isinstance(next_move, tuple) or len(next_move) != 3:\n",
    "                    raise ValueError('Invalid next move format: each move should be a tuple of length 3.')\n",
    "\n",
    "                simulated_board2 = copy.deepcopy(simulated_board)\n",
    "                simulated_board2.apply_move(next_move)\n",
    "                move_scores[(move, next_move)] = self.evaluate(simulated_board2, player)\n",
    "\n",
    "        best_move_pair = max(move_scores, key=lambda k: move_scores[k][0])\n",
    "\n",
    "        best_move_score, best_move_components = move_scores[best_move_pair]\n",
    "\n",
    "        self.log.append({\n",
    "            'move': best_move_pair,\n",
    "            'score': best_move_score,\n",
    "            'components': best_move_components\n",
    "        })\n",
    "\n",
    "        if LOG_TO_FILE:\n",
    "            with open(self.log_file, 'w') as file:\n",
    "                file.write(json.dumps(self.log, indent=4))\n",
    "            print(f\"Log updated with move: {best_move_pair}\")\n",
    "        \n",
    "        return best_move_pair\n",
    "\n",
    "    def save_log_to_file(self):\n",
    "        return json.dumps(self.log, indent=4)\n",
    "\n",
    "\n",
    "# agent tries to make sum moves that ignore shortest route rule\n",
    "# agent doesn't like bringing out numbered pieces"
   ]
  },
  {
   "cell_type": "code",
   "execution_count": 54,
   "metadata": {},
   "outputs": [],
   "source": [
    "board = Board()"
   ]
  },
  {
   "cell_type": "code",
   "execution_count": 55,
   "metadata": {},
   "outputs": [
    {
     "data": {
      "text/plain": [
       "[(('white', 10), (2, 8), 2),\n",
       " (('white', 10), (2, 6), 2),\n",
       " (('white', 10), (2, 12), 2),\n",
       " (('white', 10), (2, 2), 2),\n",
       " (('white', 10), (2, 10), 2),\n",
       " (('white', 10), (2, 4), 2),\n",
       " (('white', 10), (4, 12), 4),\n",
       " (('white', 10), (3, 5), 4),\n",
       " (('white', 10), (3, 9), 4),\n",
       " (('white', 10), (3, 7), 4),\n",
       " (('white', 10), (4, 4), 4),\n",
       " (('white', 10), (3, 1), 4),\n",
       " (('white', 10), (3, 3), 4),\n",
       " (('white', 10), (4, 8), 4),\n",
       " (('white', 10), (4, 2), 4),\n",
       " (('white', 10), (4, 10), 4),\n",
       " (('white', 10), (3, 11), 4),\n",
       " (('white', 10), (4, 6), 4),\n",
       " (0, 0, 0)]"
      ]
     },
     "execution_count": 55,
     "metadata": {},
     "output_type": "execute_result"
    }
   ],
   "source": [
    "board.get_valid_moves()"
   ]
  },
  {
   "cell_type": "code",
   "execution_count": 45,
   "metadata": {},
   "outputs": [
    {
     "name": "stdout",
     "output_type": "stream",
     "text": [
      "None\n"
     ]
    }
   ],
   "source": [
    "print(board.firstMove)"
   ]
  },
  {
   "cell_type": "code",
   "execution_count": 56,
   "metadata": {},
   "outputs": [
    {
     "name": "stdout",
     "output_type": "stream",
     "text": [
      "{'piece': white(10), 'origin_tile': None}\n"
     ]
    }
   ],
   "source": [
    "board.apply_move((('white', 10), (2, 8), 2))\n",
    "print(board.firstMove)"
   ]
  },
  {
   "cell_type": "code",
   "execution_count": 57,
   "metadata": {},
   "outputs": [
    {
     "data": {
      "text/plain": [
       "white(10)"
      ]
     },
     "execution_count": 57,
     "metadata": {},
     "output_type": "execute_result"
    }
   ],
   "source": [
    "piece = next(p for p in board.pieces if p == board.firstMove['piece'])\n",
    "piece"
   ]
  },
  {
   "cell_type": "code",
   "execution_count": 58,
   "metadata": {},
   "outputs": [
    {
     "data": {
      "text/plain": [
       "home(0, 0)"
      ]
     },
     "execution_count": 58,
     "metadata": {},
     "output_type": "execute_result"
    }
   ],
   "source": [
    "origin_tile = board.firstMove['origin_tile'] or board.home_tile\n",
    "origin_tile"
   ]
  },
  {
   "cell_type": "code",
   "execution_count": 59,
   "metadata": {},
   "outputs": [
    {
     "data": {
      "text/plain": [
       "{'piece': white(10), 'origin_tile': None}"
      ]
     },
     "execution_count": 59,
     "metadata": {},
     "output_type": "execute_result"
    }
   ],
   "source": [
    "board2 = copy.deepcopy(board)\n",
    "board2.firstMove"
   ]
  },
  {
   "cell_type": "code",
   "execution_count": 62,
   "metadata": {},
   "outputs": [
    {
     "data": {
      "text/plain": [
       "{2: [], 4: [field(6, 8), field(5, 29)]}"
      ]
     },
     "execution_count": 62,
     "metadata": {},
     "output_type": "execute_result"
    }
   ],
   "source": [
    "board.get_reachable_tiles_by_dice(piece)\n",
    "piece.reachable_tiles"
   ]
  },
  {
   "cell_type": "code",
   "execution_count": 60,
   "metadata": {},
   "outputs": [
    {
     "data": {
      "text/plain": [
       "white(10)"
      ]
     },
     "execution_count": 60,
     "metadata": {},
     "output_type": "execute_result"
    }
   ],
   "source": [
    "piece2 = next(p for p in board2.pieces if p == board2.firstMove['piece'])\n",
    "piece2"
   ]
  },
  {
   "cell_type": "code",
   "execution_count": 61,
   "metadata": {},
   "outputs": [
    {
     "data": {
      "text/plain": [
       "{2: [], 4: [field(5, 29), field(6, 8)]}"
      ]
     },
     "execution_count": 61,
     "metadata": {},
     "output_type": "execute_result"
    }
   ],
   "source": [
    "board2.get_reachable_tiles_by_dice(piece2)\n",
    "piece2.reachable_tiles"
   ]
  },
  {
   "cell_type": "code",
   "execution_count": 42,
   "metadata": {},
   "outputs": [
    {
     "data": {
      "text/plain": [
       "True"
      ]
     },
     "execution_count": 42,
     "metadata": {},
     "output_type": "execute_result"
    }
   ],
   "source": [
    "board.firstMove['piece'] == piece"
   ]
  },
  {
   "cell_type": "code",
   "execution_count": 21,
   "metadata": {},
   "outputs": [],
   "source": [
    "by_sum = board2.get_reachable_tiles(origin_tile, 8)"
   ]
  },
  {
   "cell_type": "code",
   "execution_count": 22,
   "metadata": {},
   "outputs": [],
   "source": [
    "die2 = board2.get_reachable_tiles(piece.tile, 6)"
   ]
  },
  {
   "cell_type": "code",
   "execution_count": 24,
   "metadata": {},
   "outputs": [
    {
     "data": {
      "text/plain": [
       "[field(7, 21)]"
      ]
     },
     "execution_count": 24,
     "metadata": {},
     "output_type": "execute_result"
    }
   ],
   "source": [
    "[tile for tile in die2 if tile in by_sum]"
   ]
  },
  {
   "cell_type": "code",
   "execution_count": 26,
   "metadata": {},
   "outputs": [
    {
     "data": {
      "text/plain": [
       "{'piece': white(4), 'origin_tile': None}"
      ]
     },
     "execution_count": 26,
     "metadata": {},
     "output_type": "execute_result"
    }
   ],
   "source": [
    "board.firstMove"
   ]
  },
  {
   "cell_type": "code",
   "execution_count": 27,
   "metadata": {},
   "outputs": [
    {
     "data": {
      "text/plain": [
       "{'piece': white(4), 'origin_tile': None}"
      ]
     },
     "execution_count": 27,
     "metadata": {},
     "output_type": "execute_result"
    }
   ],
   "source": [
    "board2.firstMove"
   ]
  },
  {
   "cell_type": "code",
   "execution_count": 34,
   "metadata": {},
   "outputs": [
    {
     "data": {
      "text/plain": [
       "{2: [],\n",
       " 6: [field(6, 2),\n",
       "  field(2, 8),\n",
       "  field(2, 12),\n",
       "  field(4, 8),\n",
       "  field(3, 9),\n",
       "  field(7, 21),\n",
       "  field(4, 12),\n",
       "  field(6, 6),\n",
       "  field(3, 11),\n",
       "  field(5, 14)]}"
      ]
     },
     "execution_count": 34,
     "metadata": {},
     "output_type": "execute_result"
    }
   ],
   "source": [
    "piece = next(p for p in board.pieces if p.number==4 and p.player=='white')\n",
    "piece.reachable_tiles"
   ]
  },
  {
   "cell_type": "code",
   "execution_count": 36,
   "metadata": {},
   "outputs": [],
   "source": [
    "board2.get_reachable_tiles_by_dice(piece2)"
   ]
  },
  {
   "cell_type": "code",
   "execution_count": 37,
   "metadata": {},
   "outputs": [
    {
     "data": {
      "text/plain": [
       "{2: [], 6: [field(7, 21)]}"
      ]
     },
     "execution_count": 37,
     "metadata": {},
     "output_type": "execute_result"
    }
   ],
   "source": [
    "piece2 = next(p for p in board2.pieces if p.number==4 and p.player=='white')\n",
    "piece2.reachable_tiles"
   ]
  },
  {
   "cell_type": "code",
   "execution_count": 24,
   "metadata": {},
   "outputs": [
    {
     "name": "stdout",
     "output_type": "stream",
     "text": [
      "Log file game_log.json created.\n",
      "Log updated with move: ((0, 0, 0), (0, 0, 0))\n"
     ]
    },
    {
     "data": {
      "text/plain": [
       "((0, 0, 0), (0, 0, 0))"
      ]
     },
     "execution_count": 24,
     "metadata": {},
     "output_type": "execute_result"
    }
   ],
   "source": [
    "agent = Agent(board)\n",
    "board.firstMove = None\n",
    "moves = board.get_valid_moves()\n",
    "agent.select_move_pair(moves, board, board.current_player)"
   ]
  },
  {
   "cell_type": "code",
   "execution_count": 25,
   "metadata": {},
   "outputs": [
    {
     "data": {
      "text/plain": [
       "'black'"
      ]
     },
     "execution_count": 25,
     "metadata": {},
     "output_type": "execute_result"
    }
   ],
   "source": [
    "board.current_player"
   ]
  },
  {
   "cell_type": "code",
   "execution_count": 26,
   "metadata": {},
   "outputs": [
    {
     "data": {
      "text/plain": [
       "(36.29999999999998,\n",
       " {'player': {'saved_pieces': 0,\n",
       "   'saved_bonus': 0,\n",
       "   'goal_pieces': 10,\n",
       "   'goal_bonus': 14,\n",
       "   'pieces_near_goal': 20,\n",
       "   'loose_pieces': -2,\n",
       "   'total_distance': -23.3,\n",
       "   'unentered_pieces': -5,\n",
       "   'off_goal_penalty': -190,\n",
       "   'game_stage_bonus': 0},\n",
       "  'opponent': {'saved_pieces': 0,\n",
       "   'saved_bonus': 0,\n",
       "   'goal_pieces': 0,\n",
       "   'goal_bonus': 0,\n",
       "   'pieces_near_goal': 36,\n",
       "   'loose_pieces': -4,\n",
       "   'total_distance': -52.6,\n",
       "   'unentered_pieces': -2,\n",
       "   'off_goal_penalty': -190,\n",
       "   'game_stage_bonus': 0}})"
      ]
     },
     "execution_count": 26,
     "metadata": {},
     "output_type": "execute_result"
    }
   ],
   "source": [
    "simulated_board = copy.deepcopy(board)\n",
    "agent.evaluate(simulated_board, 'black')"
   ]
  },
  {
   "cell_type": "code",
   "execution_count": 27,
   "metadata": {},
   "outputs": [
    {
     "data": {
      "text/plain": [
       "(7.699999999999989,\n",
       " {'player': {'saved_pieces': 0,\n",
       "   'saved_bonus': 0,\n",
       "   'goal_pieces': 10,\n",
       "   'goal_bonus': 14,\n",
       "   'pieces_near_goal': 20,\n",
       "   'loose_pieces': -3,\n",
       "   'total_distance': -51.9,\n",
       "   'unentered_pieces': -4,\n",
       "   'off_goal_penalty': -190,\n",
       "   'game_stage_bonus': 0},\n",
       "  'opponent': {'saved_pieces': 0,\n",
       "   'saved_bonus': 0,\n",
       "   'goal_pieces': 0,\n",
       "   'goal_bonus': 0,\n",
       "   'pieces_near_goal': 36,\n",
       "   'loose_pieces': -4,\n",
       "   'total_distance': -52.6,\n",
       "   'unentered_pieces': -2,\n",
       "   'off_goal_penalty': -190,\n",
       "   'game_stage_bonus': 0}})"
      ]
     },
     "execution_count": 27,
     "metadata": {},
     "output_type": "execute_result"
    }
   ],
   "source": [
    "simulated_board.apply_move((('black', 6), (3, 12), 3))\n",
    "agent.evaluate(simulated_board, 'black')"
   ]
  },
  {
   "cell_type": "code",
   "execution_count": 29,
   "metadata": {},
   "outputs": [],
   "source": [
    "piece = next(p for p in board.pieces if p.player == 'black' and p.number == 6)"
   ]
  },
  {
   "cell_type": "code",
   "execution_count": 31,
   "metadata": {},
   "outputs": [
    {
     "data": {
      "text/plain": [
       "inf"
      ]
     },
     "execution_count": 31,
     "metadata": {},
     "output_type": "execute_result"
    }
   ],
   "source": [
    "board.shortest_route_to_goal(piece)"
   ]
  },
  {
   "cell_type": "code",
   "execution_count": 32,
   "metadata": {},
   "outputs": [
    {
     "data": {
      "text/plain": [
       "inf"
      ]
     },
     "execution_count": 32,
     "metadata": {},
     "output_type": "execute_result"
    }
   ],
   "source": [
    "simulated_board.shortest_route_to_goal(piece)"
   ]
  },
  {
   "cell_type": "code",
   "execution_count": 33,
   "metadata": {},
   "outputs": [],
   "source": [
    "state = {'currentTurn': 'black', 'dice': [{'value': 4, 'used': False}, {'value': 3, 'used': False}], 'racks': {'whiteUnentered': [{'color': 'white', 'number': 12}, {'color': 'white', 'number': 1}, {'color': 'white', 'number': 14}, {'color': 'white', 'number': 3}, {'color': 'white', 'number': 11}], 'whiteSaved': [], 'blackUnentered': [{'color': 'black', 'number': 12}, {'color': 'black', 'number': 4}, {'color': 'black', 'number': 5}, {'color': 'black', 'number': 6}, {'color': 'black', 'number': 14}], 'blackSaved': []}, 'boardPieces': [{'color': 'white', 'number': 4, 'tile': {'ring': 7, 'sector': 2}}, {'color': 'white', 'number': 6, 'tile': {'ring': 7, 'sector': 10}}, {'color': 'white', 'number': 7, 'tile': {'ring': 4, 'sector': 12}}, {'color': 'white', 'number': 5, 'tile': {'ring': 5, 'sector': 6}}, {'color': 'white', 'number': 2, 'tile': {'ring': 5, 'sector': 4}}, {'color': 'white', 'number': 10, 'tile': {'ring': 5, 'sector': 6}}, {'color': 'white', 'number': 9, 'tile': {'ring': 4, 'sector': 12}}, {'color': 'white', 'number': 8, 'tile': {'ring': 5, 'sector': 4}}, {'color': 'white', 'number': 13, 'tile': {'ring': 7, 'sector': 4}}, {'color': 'black', 'number': 8, 'tile': {'ring': 7, 'sector': 2}}, {'color': 'black', 'number': 10, 'tile': {'ring': 7, 'sector': 2}}, {'color': 'black', 'number': 13, 'tile': {'ring': 7, 'sector': 6}}, {'color': 'black', 'number': 11, 'tile': {'ring': 2, 'sector': 10}}, {'color': 'black', 'number': 7, 'tile': {'ring': 1, 'sector': 12}}, {'color': 'black', 'number': 9, 'tile': {'ring': 2, 'sector': 10}}, {'color': 'black', 'number': 1, 'tile': {'ring': 1, 'sector': 12}}, {'color': 'black', 'number': 3, 'tile': {'ring': 5, 'sector': 30}}, {'color': 'black', 'number': 2, 'tile': {'ring': 0, 'sector': 0}}]}"
   ]
  },
  {
   "cell_type": "code",
   "execution_count": 34,
   "metadata": {},
   "outputs": [],
   "source": [
    "board.update_state(state)"
   ]
  },
  {
   "cell_type": "code",
   "execution_count": 35,
   "metadata": {},
   "outputs": [],
   "source": [
    "piece = next(p for p in board.pieces if p.player == 'black' and p.number == 2)"
   ]
  },
  {
   "cell_type": "code",
   "execution_count": 36,
   "metadata": {},
   "outputs": [
    {
     "data": {
      "text/plain": [
       "11"
      ]
     },
     "execution_count": 36,
     "metadata": {},
     "output_type": "execute_result"
    }
   ],
   "source": [
    "board.shortest_route_to_goal(piece)"
   ]
  },
  {
   "cell_type": "code",
   "execution_count": 37,
   "metadata": {},
   "outputs": [],
   "source": [
    "pieces_not_near_goal = [piece for piece in board.pieces if board.shortest_route_to_goal(piece) > 6]"
   ]
  },
  {
   "cell_type": "code",
   "execution_count": 38,
   "metadata": {},
   "outputs": [
    {
     "data": {
      "text/plain": [
       "107"
      ]
     },
     "execution_count": 38,
     "metadata": {},
     "output_type": "execute_result"
    }
   ],
   "source": [
    "sum(board.shortest_route_to_goal(piece) for piece in pieces_not_near_goal)"
   ]
  },
  {
   "cell_type": "code",
   "execution_count": 39,
   "metadata": {},
   "outputs": [
    {
     "data": {
      "text/plain": [
       "100"
      ]
     },
     "execution_count": 39,
     "metadata": {},
     "output_type": "execute_result"
    }
   ],
   "source": [
    "min(sum(board.shortest_route_to_goal(piece) for piece in pieces_not_near_goal), 100)"
   ]
  },
  {
   "cell_type": "code",
   "execution_count": 40,
   "metadata": {},
   "outputs": [
    {
     "data": {
      "text/plain": [
       "(-69.30000000000001,\n",
       " {'player': {'saved_pieces': 0,\n",
       "   'saved_bonus': 0,\n",
       "   'goal_pieces': 30,\n",
       "   'goal_bonus': 0,\n",
       "   'pieces_near_goal': 24,\n",
       "   'loose_pieces': -1,\n",
       "   'total_distance': -16.3,\n",
       "   'unentered_pieces': -5,\n",
       "   'off_goal_penalty': -164,\n",
       "   'game_stage_bonus': 0},\n",
       "  'opponent': {'saved_pieces': 0,\n",
       "   'saved_bonus': 0,\n",
       "   'goal_pieces': 30,\n",
       "   'goal_bonus': 40,\n",
       "   'pieces_near_goal': 36,\n",
       "   'loose_pieces': 0,\n",
       "   'total_distance': -0.0,\n",
       "   'unentered_pieces': -5,\n",
       "   'off_goal_penalty': -164,\n",
       "   'game_stage_bonus': 0}})"
      ]
     },
     "execution_count": 40,
     "metadata": {},
     "output_type": "execute_result"
    }
   ],
   "source": [
    "agent.evaluate(board, 'black')"
   ]
  },
  {
   "cell_type": "code",
   "execution_count": null,
   "metadata": {},
   "outputs": [],
   "source": []
  }
 ],
 "metadata": {
  "kernelspec": {
   "display_name": "Python 3 (ipykernel)",
   "language": "python",
   "name": "python3"
  },
  "language_info": {
   "codemirror_mode": {
    "name": "ipython",
    "version": 3
   },
   "file_extension": ".py",
   "mimetype": "text/x-python",
   "name": "python",
   "nbconvert_exporter": "python",
   "pygments_lexer": "ipython3",
   "version": "3.8.0"
  }
 },
 "nbformat": 4,
 "nbformat_minor": 2
}
